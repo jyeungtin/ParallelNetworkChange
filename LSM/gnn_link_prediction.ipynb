{
 "cells": [
  {
   "cell_type": "code",
   "execution_count": 225,
   "metadata": {},
   "outputs": [],
   "source": [
    "import pickle\n",
    "import pandas as pd\n",
    "import torch\n",
    "import torch.nn as nn\n",
    "import torch\n",
    "import networkx as nx\n",
    "from torch_geometric.data import Data\n",
    "from sklearn.metrics import roc_auc_score\n",
    "import torch_geometric.transforms as T\n",
    "from torch_geometric.nn import GCNConv\n",
    "from torch_geometric.utils import negative_sampling"
   ]
  },
  {
   "cell_type": "code",
   "execution_count": 198,
   "metadata": {},
   "outputs": [],
   "source": [
    "with open('../Data/MTT_graphs/trade_graphs.pkl', 'rb') as f:\n",
    "    trade_graphs = pickle.load(f)\n",
    "\n",
    "single_trade_graph = trade_graphs[-1]"
   ]
  },
  {
   "cell_type": "code",
   "execution_count": 199,
   "metadata": {},
   "outputs": [],
   "source": [
    "trade_df = pd.DataFrame(single_trade_graph.edges(data=True), columns=['Source', 'Target', 'Attributes'])\n",
    "trade_df = pd.concat([trade_df.drop(['Attributes'], axis=1), trade_df['Attributes'].apply(pd.Series)], axis=1)"
   ]
  },
  {
   "cell_type": "code",
   "execution_count": 200,
   "metadata": {},
   "outputs": [],
   "source": [
    "with open('../all_wb_indicators.pickle', 'rb') as f:\n",
    "    wb_indicators = pickle.load(f)"
   ]
  },
  {
   "cell_type": "code",
   "execution_count": null,
   "metadata": {},
   "outputs": [],
   "source": [
    "wb_year_dict = {}\n",
    "\n",
    "count = 0\n",
    "for feature, df in wb_indicators.items():\n",
    "\n",
    "    if count % 100 == 0:\n",
    "        print(count)\n",
    "    count += 1\n",
    "    \n",
    "    df = df.set_index('economy')\n",
    "    df_transposed = df.transpose()\n",
    "    \n",
    "    for year in df_transposed.index:\n",
    "        if year not in wb_year_dict:\n",
    "            wb_year_dict[year] = pd.DataFrame(df_transposed.loc[year]).rename(columns={year: feature})\n",
    "        else:\n",
    "            wb_year_dict[year] = pd.concat([wb_year_dict[year], pd.DataFrame(df_transposed.loc[year]).rename(columns={year: feature})], axis=1)\n"
   ]
  },
  {
   "cell_type": "code",
   "execution_count": null,
   "metadata": {},
   "outputs": [],
   "source": [
    "#with open('../Data/wb_features.pkl', 'wb') as f:\n",
    "#    pickle.dump(wb_year_dict, f)"
   ]
  },
  {
   "cell_type": "code",
   "execution_count": 201,
   "metadata": {},
   "outputs": [],
   "source": [
    "with open('../Data/wb_features.pkl', 'rb') as f:\n",
    "    wb_year_dict = pickle.load(f)\n",
    "\n",
    "wb_2018 = wb_year_dict['YR2018']"
   ]
  },
  {
   "cell_type": "code",
   "execution_count": 202,
   "metadata": {},
   "outputs": [],
   "source": [
    "wb_2018_indices = set(wb_2018.index)\n",
    "trade_df = trade_df[trade_df['Source'].isin(wb_2018_indices) & trade_df['Target'].isin(wb_2018_indices)]"
   ]
  },
  {
   "cell_type": "code",
   "execution_count": 203,
   "metadata": {},
   "outputs": [],
   "source": [
    "nodes = pd.concat([trade_df['Source'], trade_df['Target']]).unique()\n",
    "node_to_int = {node: i for i, node in enumerate(nodes)}\n",
    "\n",
    "trade_df['source_int'] = trade_df['Source'].map(node_to_int)\n",
    "trade_df['target_int'] = trade_df['Target'].map(node_to_int)"
   ]
  },
  {
   "cell_type": "code",
   "execution_count": 204,
   "metadata": {},
   "outputs": [],
   "source": [
    "# Create a set of unique nodes in trade_df\n",
    "trade_nodes = set(pd.concat([trade_df['Source'], trade_df['Target']]).unique())\n",
    "wb_2018 = wb_2018[wb_2018.index.isin(trade_nodes)]"
   ]
  },
  {
   "cell_type": "code",
   "execution_count": 205,
   "metadata": {},
   "outputs": [],
   "source": [
    "wb_2018 = wb_2018.fillna(0)"
   ]
  },
  {
   "cell_type": "code",
   "execution_count": 206,
   "metadata": {},
   "outputs": [],
   "source": [
    "variance = wb_2018.var()\n",
    "low_variance_cols = variance[variance < 0.1].index"
   ]
  },
  {
   "cell_type": "code",
   "execution_count": 207,
   "metadata": {},
   "outputs": [],
   "source": [
    "wb_2018 = wb_2018.drop(columns=low_variance_cols)"
   ]
  },
  {
   "cell_type": "code",
   "execution_count": 208,
   "metadata": {},
   "outputs": [],
   "source": [
    "# Create a mapping of node names to integers\n",
    "nodes = pd.concat([trade_df['Source'], trade_df['Target']]).unique()\n",
    "node_to_int = {node: i for i, node in enumerate(nodes)}\n",
    "\n",
    "# Add new columns to trade_df\n",
    "trade_df['source_int'] = trade_df['Source'].map(node_to_int)\n",
    "trade_df['target_int'] = trade_df['Target'].map(node_to_int)\n",
    "\n",
    "# Replace the index of wb_2018\n",
    "wb_2018.index = wb_2018.index.map(node_to_int)"
   ]
  },
  {
   "cell_type": "code",
   "execution_count": 209,
   "metadata": {},
   "outputs": [],
   "source": [
    "edge_index = torch.tensor(trade_df[['source_int', 'target_int']].values, dtype=torch.long).t().contiguous()\n",
    "node_features = torch.tensor(wb_2018.values, dtype=torch.float)\n",
    "data = Data(x=node_features, edge_index=edge_index)"
   ]
  },
  {
   "cell_type": "code",
   "execution_count": 210,
   "metadata": {},
   "outputs": [],
   "source": [
    "data = T.NormalizeFeatures()(data)"
   ]
  },
  {
   "cell_type": "code",
   "execution_count": 218,
   "metadata": {},
   "outputs": [],
   "source": [
    "split = T.RandomLinkSplit(\n",
    "    num_val=0.1,\n",
    "    num_test=0.1,\n",
    "    is_undirected=True,\n",
    "    add_negative_train_samples=False,\n",
    "    neg_sampling_ratio=2.0,\n",
    ")\n",
    "train_data, val_data, test_data = split(data)"
   ]
  },
  {
   "cell_type": "code",
   "execution_count": 230,
   "metadata": {},
   "outputs": [],
   "source": [
    "class Net(torch.nn.Module):\n",
    "    def __init__(self, in_channels, hidden_channels, out_channels):\n",
    "        super().__init__()\n",
    "        self.conv1 = GCNConv(in_channels, hidden_channels)\n",
    "        self.conv2 = GCNConv(hidden_channels, out_channels)\n",
    "        self.dropout = nn.Dropout(0.5)\n",
    "\n",
    "    def encode(self, x, edge_index):\n",
    "        x = self.conv1(x, edge_index).relu()\n",
    "        x = self.dropout(x)\n",
    "        x = self.conv2(x, edge_index)\n",
    "        return x\n",
    "\n",
    "    def decode(self, z, edge_label_index):\n",
    "        return (z[edge_label_index[0]] * z[edge_label_index[1]]).sum(dim=-1)\n",
    "\n",
    "    def decode_all(self, z):\n",
    "        prob_adj = z @ z.t()\n",
    "        return (prob_adj > 0).nonzero(as_tuple=False).t()"
   ]
  },
  {
   "cell_type": "code",
   "execution_count": 231,
   "metadata": {},
   "outputs": [],
   "source": [
    "model = Net(data.num_features, 64, 32)\n",
    "optimizer = torch.optim.Adam(params=model.parameters(), lr=0.01)\n",
    "criterion = torch.nn.BCEWithLogitsLoss()"
   ]
  },
  {
   "cell_type": "code",
   "execution_count": 232,
   "metadata": {},
   "outputs": [],
   "source": [
    "def train():\n",
    "    model.train()\n",
    "    optimizer.zero_grad()\n",
    "    z = model.encode(train_data.x, train_data.edge_index)\n",
    "\n",
    "    # We perform a new round of negative sampling for every training epoch:\n",
    "    neg_edge_index = negative_sampling(\n",
    "        edge_index=train_data.edge_index, num_nodes=train_data.num_nodes,\n",
    "        num_neg_samples=train_data.edge_label_index.size(1), method='sparse')\n",
    "\n",
    "    edge_label_index = torch.cat(\n",
    "        [train_data.edge_label_index, neg_edge_index],\n",
    "        dim=-1,\n",
    "    )\n",
    "    edge_label = torch.cat([\n",
    "        train_data.edge_label,\n",
    "        train_data.edge_label.new_zeros(neg_edge_index.size(1))\n",
    "    ], dim=0)\n",
    "\n",
    "    out = model.decode(z, edge_label_index).view(-1)\n",
    "    loss = criterion(out, edge_label)\n",
    "    loss.backward()\n",
    "    optimizer.step()\n",
    "    return loss\n",
    "\n",
    "@torch.no_grad()\n",
    "def test(data):\n",
    "    model.eval()\n",
    "    z = model.encode(data.x, data.edge_index)\n",
    "    out = model.decode(z, data.edge_label_index).view(-1).sigmoid()\n",
    "    return roc_auc_score(data.edge_label.cpu().numpy(), out.cpu().numpy())"
   ]
  },
  {
   "cell_type": "code",
   "execution_count": 233,
   "metadata": {},
   "outputs": [
    {
     "name": "stdout",
     "output_type": "stream",
     "text": [
      "Epoch: 001, Loss: 0.6931, Val: 0.5774, Test: 0.5736\n",
      "Epoch: 002, Loss: 0.6910, Val: 0.5774, Test: 0.5736\n",
      "Epoch: 003, Loss: 0.6865, Val: 0.5773, Test: 0.5736\n",
      "Epoch: 004, Loss: 0.6872, Val: 0.5774, Test: 0.5736\n",
      "Epoch: 005, Loss: 0.6852, Val: 0.5774, Test: 0.5736\n",
      "Epoch: 006, Loss: 0.6847, Val: 0.5774, Test: 0.5736\n",
      "Epoch: 007, Loss: 0.6852, Val: 0.5774, Test: 0.5736\n",
      "Epoch: 008, Loss: 0.6852, Val: 0.5774, Test: 0.5736\n",
      "Epoch: 009, Loss: 0.6849, Val: 0.5774, Test: 0.5736\n",
      "Epoch: 010, Loss: 0.6841, Val: 0.5774, Test: 0.5736\n",
      "Epoch: 011, Loss: 0.6841, Val: 0.5774, Test: 0.5736\n",
      "Epoch: 012, Loss: 0.6840, Val: 0.5774, Test: 0.5736\n",
      "Epoch: 013, Loss: 0.6840, Val: 0.5774, Test: 0.5736\n",
      "Epoch: 014, Loss: 0.6839, Val: 0.5774, Test: 0.5736\n",
      "Epoch: 015, Loss: 0.6837, Val: 0.5774, Test: 0.5736\n",
      "Epoch: 016, Loss: 0.6836, Val: 0.5774, Test: 0.5736\n",
      "Epoch: 017, Loss: 0.6831, Val: 0.5774, Test: 0.5736\n",
      "Epoch: 018, Loss: 0.6828, Val: 0.5774, Test: 0.5736\n",
      "Epoch: 019, Loss: 0.6827, Val: 0.5774, Test: 0.5736\n",
      "Epoch: 020, Loss: 0.6828, Val: 0.5774, Test: 0.5736\n",
      "Epoch: 021, Loss: 0.6819, Val: 0.5774, Test: 0.5736\n",
      "Epoch: 022, Loss: 0.6818, Val: 0.5774, Test: 0.5736\n",
      "Epoch: 023, Loss: 0.6817, Val: 0.5774, Test: 0.5736\n",
      "Epoch: 024, Loss: 0.6820, Val: 0.5774, Test: 0.5736\n",
      "Epoch: 025, Loss: 0.6815, Val: 0.5774, Test: 0.5736\n",
      "Epoch: 026, Loss: 0.6807, Val: 0.5774, Test: 0.5736\n",
      "Epoch: 027, Loss: 0.6804, Val: 0.5773, Test: 0.5736\n",
      "Epoch: 028, Loss: 0.6806, Val: 0.5773, Test: 0.5736\n",
      "Epoch: 029, Loss: 0.6804, Val: 0.5773, Test: 0.5736\n",
      "Epoch: 030, Loss: 0.6804, Val: 0.5773, Test: 0.5736\n",
      "Epoch: 031, Loss: 0.6801, Val: 0.5773, Test: 0.5736\n",
      "Epoch: 032, Loss: 0.6794, Val: 0.5773, Test: 0.5736\n",
      "Epoch: 033, Loss: 0.6794, Val: 0.5773, Test: 0.5736\n",
      "Epoch: 034, Loss: 0.6794, Val: 0.5773, Test: 0.5736\n",
      "Epoch: 035, Loss: 0.6791, Val: 0.5773, Test: 0.5735\n",
      "Epoch: 036, Loss: 0.6787, Val: 0.5773, Test: 0.5735\n",
      "Epoch: 037, Loss: 0.6782, Val: 0.5772, Test: 0.5735\n",
      "Epoch: 038, Loss: 0.6777, Val: 0.5773, Test: 0.5735\n",
      "Epoch: 039, Loss: 0.6787, Val: 0.5772, Test: 0.5734\n",
      "Epoch: 040, Loss: 0.6770, Val: 0.5772, Test: 0.5734\n",
      "Epoch: 041, Loss: 0.6769, Val: 0.5772, Test: 0.5735\n",
      "Epoch: 042, Loss: 0.6760, Val: 0.5772, Test: 0.5735\n",
      "Epoch: 043, Loss: 0.6771, Val: 0.5771, Test: 0.5734\n",
      "Epoch: 044, Loss: 0.6760, Val: 0.5771, Test: 0.5734\n",
      "Epoch: 045, Loss: 0.6755, Val: 0.5772, Test: 0.5735\n",
      "Epoch: 046, Loss: 0.6755, Val: 0.5772, Test: 0.5734\n",
      "Epoch: 047, Loss: 0.6748, Val: 0.5768, Test: 0.5732\n",
      "Epoch: 048, Loss: 0.6758, Val: 0.5767, Test: 0.5731\n",
      "Epoch: 049, Loss: 0.6764, Val: 0.5770, Test: 0.5733\n",
      "Epoch: 050, Loss: 0.6742, Val: 0.5771, Test: 0.5734\n",
      "Epoch: 051, Loss: 0.6752, Val: 0.5769, Test: 0.5732\n",
      "Epoch: 052, Loss: 0.6740, Val: 0.5765, Test: 0.5730\n",
      "Epoch: 053, Loss: 0.6751, Val: 0.5765, Test: 0.5730\n",
      "Epoch: 054, Loss: 0.6759, Val: 0.5770, Test: 0.5733\n",
      "Epoch: 055, Loss: 0.6737, Val: 0.5770, Test: 0.5734\n",
      "Epoch: 056, Loss: 0.6749, Val: 0.5767, Test: 0.5732\n",
      "Epoch: 057, Loss: 0.6727, Val: 0.5764, Test: 0.5729\n",
      "Epoch: 058, Loss: 0.6744, Val: 0.5765, Test: 0.5730\n",
      "Epoch: 059, Loss: 0.6735, Val: 0.5769, Test: 0.5732\n",
      "Epoch: 060, Loss: 0.6734, Val: 0.5768, Test: 0.5732\n",
      "Epoch: 061, Loss: 0.6726, Val: 0.5767, Test: 0.5731\n",
      "Epoch: 062, Loss: 0.6718, Val: 0.5766, Test: 0.5731\n",
      "Epoch: 063, Loss: 0.6726, Val: 0.5767, Test: 0.5731\n",
      "Epoch: 064, Loss: 0.6717, Val: 0.5769, Test: 0.5732\n",
      "Epoch: 065, Loss: 0.6739, Val: 0.5764, Test: 0.5729\n",
      "Epoch: 066, Loss: 0.6720, Val: 0.5759, Test: 0.5725\n",
      "Epoch: 067, Loss: 0.6734, Val: 0.5762, Test: 0.5727\n",
      "Epoch: 068, Loss: 0.6721, Val: 0.5767, Test: 0.5731\n",
      "Epoch: 069, Loss: 0.6707, Val: 0.5770, Test: 0.5733\n",
      "Epoch: 070, Loss: 0.6789, Val: 0.5762, Test: 0.5727\n",
      "Epoch: 071, Loss: 0.6726, Val: 0.5751, Test: 0.5720\n",
      "Epoch: 072, Loss: 0.6738, Val: 0.5751, Test: 0.5720\n",
      "Epoch: 073, Loss: 0.6757, Val: 0.5760, Test: 0.5726\n",
      "Epoch: 074, Loss: 0.6707, Val: 0.5767, Test: 0.5731\n",
      "Epoch: 075, Loss: 0.6737, Val: 0.5765, Test: 0.5730\n",
      "Epoch: 076, Loss: 0.6704, Val: 0.5762, Test: 0.5727\n",
      "Epoch: 077, Loss: 0.6697, Val: 0.5762, Test: 0.5727\n",
      "Epoch: 078, Loss: 0.6697, Val: 0.5761, Test: 0.5727\n",
      "Epoch: 079, Loss: 0.6695, Val: 0.5759, Test: 0.5725\n",
      "Epoch: 080, Loss: 0.6689, Val: 0.5758, Test: 0.5725\n",
      "Epoch: 081, Loss: 0.6702, Val: 0.5760, Test: 0.5726\n",
      "Epoch: 082, Loss: 0.6691, Val: 0.5762, Test: 0.5727\n",
      "Epoch: 083, Loss: 0.6692, Val: 0.5765, Test: 0.5730\n",
      "Epoch: 084, Loss: 0.6701, Val: 0.5764, Test: 0.5729\n",
      "Epoch: 085, Loss: 0.6720, Val: 0.5754, Test: 0.5722\n",
      "Epoch: 086, Loss: 0.6707, Val: 0.5749, Test: 0.5719\n",
      "Epoch: 087, Loss: 0.6723, Val: 0.5755, Test: 0.5723\n",
      "Epoch: 088, Loss: 0.6690, Val: 0.5761, Test: 0.5727\n",
      "Epoch: 089, Loss: 0.6708, Val: 0.5760, Test: 0.5726\n",
      "Epoch: 090, Loss: 0.6690, Val: 0.5762, Test: 0.5727\n",
      "Epoch: 091, Loss: 0.6680, Val: 0.5763, Test: 0.5728\n",
      "Epoch: 092, Loss: 0.6709, Val: 0.5756, Test: 0.5724\n",
      "Epoch: 093, Loss: 0.6674, Val: 0.5751, Test: 0.5720\n",
      "Epoch: 094, Loss: 0.6699, Val: 0.5752, Test: 0.5721\n",
      "Epoch: 095, Loss: 0.6692, Val: 0.5759, Test: 0.5725\n",
      "Epoch: 096, Loss: 0.6681, Val: 0.5762, Test: 0.5727\n",
      "Epoch: 097, Loss: 0.6682, Val: 0.5763, Test: 0.5728\n",
      "Epoch: 098, Loss: 0.6699, Val: 0.5756, Test: 0.5723\n",
      "Epoch: 099, Loss: 0.6681, Val: 0.5743, Test: 0.5715\n",
      "Epoch: 100, Loss: 0.6697, Val: 0.5741, Test: 0.5713\n",
      "Final Test: 0.5736\n"
     ]
    }
   ],
   "source": [
    "best_val_auc = final_test_auc = 0\n",
    "for epoch in range(1, 101):\n",
    "    loss = train()\n",
    "    val_auc = test(val_data)\n",
    "    test_auc = test(test_data)\n",
    "    if val_auc > best_val_auc:\n",
    "        best_val_auc = val_auc\n",
    "        final_test_auc = test_auc\n",
    "    print(f'Epoch: {epoch:03d}, Loss: {loss:.4f}, Val: {val_auc:.4f}, '\n",
    "          f'Test: {test_auc:.4f}')\n",
    "\n",
    "print(f'Final Test: {final_test_auc:.4f}')\n",
    "\n",
    "z = model.encode(test_data.x, test_data.edge_index)\n",
    "final_edge_index = model.decode_all(z)"
   ]
  },
  {
   "cell_type": "code",
   "execution_count": 196,
   "metadata": {},
   "outputs": [
    {
     "data": {
      "text/plain": [
       "Data(x=[192, 1272], edge_index=[2, 16222])"
      ]
     },
     "execution_count": 196,
     "metadata": {},
     "output_type": "execute_result"
    }
   ],
   "source": [
    "data"
   ]
  },
  {
   "cell_type": "code",
   "execution_count": null,
   "metadata": {},
   "outputs": [],
   "source": []
  }
 ],
 "metadata": {
  "kernelspec": {
   "display_name": "base",
   "language": "python",
   "name": "python3"
  },
  "language_info": {
   "codemirror_mode": {
    "name": "ipython",
    "version": 3
   },
   "file_extension": ".py",
   "mimetype": "text/x-python",
   "name": "python",
   "nbconvert_exporter": "python",
   "pygments_lexer": "ipython3",
   "version": "3.11.5"
  }
 },
 "nbformat": 4,
 "nbformat_minor": 2
}
